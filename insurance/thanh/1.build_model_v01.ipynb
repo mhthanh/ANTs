{
 "cells": [
  {
   "cell_type": "markdown",
   "metadata": {},
   "source": [
    "## Porto Seguro's Safe Driver Prediction\n",
    "Predict if a driver will file an insurance claim next year."
   ]
  },
  {
   "cell_type": "code",
   "execution_count": 16,
   "metadata": {},
   "outputs": [
    {
     "name": "stdout",
     "output_type": "stream",
     "text": [
      "Populating the interactive namespace from numpy and matplotlib\n"
     ]
    }
   ],
   "source": [
    "import numpy as np, pandas as pd, matplotlib.pyplot as plt, math, random as rd\n",
    "import time\n",
    "import xgboost as xgb, catboost, lightgbm as lgb\n",
    "from sklearn.ensemble import RandomForestClassifier\n",
    "from sklearn.model_selection import cross_val_score, cross_val_predict, train_test_split, StratifiedShuffleSplit\n",
    "from sklearn.metrics import confusion_matrix, accuracy_score, auc, f1_score, roc_auc_score\n",
    "from sklearn.linear_model import LogisticRegression\n",
    "from sklearn.svm import LinearSVC, SVC\n",
    "from IPython.display import display\n",
    "%pylab inline"
   ]
  },
  {
   "cell_type": "markdown",
   "metadata": {},
   "source": [
    "## Data description\n",
    "\n",
    "In this competition, you will predict the probability that an auto insurance policy holder files a claim.\n",
    "\n",
    "In the train and test data, features that belong to similar groupings are tagged as such in the feature names (e.g., ind, reg, car, calc). In addition, feature names include the postfix bin to indicate binary features and cat to indicate categorical features. Features without these designations are either continuous or ordinal. Values of -1 indicate that the feature was missing from the observation. The target columns signifies whether or not a claim was filed for that policy holder."
   ]
  },
  {
   "cell_type": "markdown",
   "metadata": {},
   "source": [
    "## Normalized Gini Coefficient\n",
    "https://www.kaggle.com/c/ClaimPredictionChallenge/discussion/703"
   ]
  },
  {
   "cell_type": "code",
   "execution_count": 18,
   "metadata": {
    "collapsed": true
   },
   "outputs": [],
   "source": [
    "def gini(actual, pred, cmpcol = 0, sortcol = 1):\n",
    "    assert( len(actual) == len(pred) )\n",
    "    all = np.asarray(np.c_[ actual, pred, np.arange(len(actual)) ], dtype=np.float)\n",
    "    all = all[ np.lexsort((all[:,2], -1*all[:,1])) ]\n",
    "    totalLosses = all[:,0].sum()\n",
    "    giniSum = all[:,0].cumsum().sum() / totalLosses\n",
    "    \n",
    "    giniSum -= (len(actual) + 1) / 2.\n",
    "    return giniSum / len(actual)\n",
    " \n",
    "def gini_normalized(a, p):\n",
    "    return gini(a, p) / gini(a, a)\n",
    " \n",
    "def test_gini():\n",
    "    def fequ(a,b):\n",
    "        return abs(a - b) < 1e-6\n",
    "    def T(a, p, g, n):\n",
    "        assert( fequ(gini(a,p), g) )\n",
    "        assert( fequ(gini_normalized(a,p), n) )\n",
    "    T([1, 2, 3], [10, 20, 30], 0.111111, 1)\n",
    "    T([1, 2, 3], [30, 20, 10], -0.111111, -1)\n",
    "    T([1, 2, 3], [0, 0, 0], -0.111111, -1)\n",
    "    T([3, 2, 1], [0, 0, 0], 0.111111, 1)\n",
    "    T([1, 2, 4, 3], [0, 0, 0, 0], -0.1, -0.8)\n",
    "    T([2, 1, 4, 3], [0, 0, 2, 1], 0.125, 1)\n",
    "    T([0, 20, 40, 0, 10], [40, 40, 10, 5, 5], 0, 0)\n",
    "    T([40, 0, 20, 0, 10], [1000000, 40, 40, 5, 5], 0.171428, 0.6)\n",
    "    T([40, 20, 10, 0, 0], [40, 20, 10, 0, 0], 0.285714, 1)\n",
    "    T([1, 1, 0, 1], [0.86, 0.26, 0.52, 0.32], -0.041666, -0.333333)\n",
    "\n",
    "#--------------\n",
    "test_gini()"
   ]
  },
  {
   "cell_type": "markdown",
   "metadata": {},
   "source": [
    "## ML utilities"
   ]
  },
  {
   "cell_type": "code",
   "execution_count": 63,
   "metadata": {
    "collapsed": true
   },
   "outputs": [],
   "source": [
    "def balance_num_samples_in_classes(x_array, y_array, flag_balance_classes=True, seed=10, verbose=False):\n",
    "    np.random.seed(seed)\n",
    "\n",
    "    if verbose:\n",
    "        print('# users with label 0:', len(y_array[y_array == 0]))\n",
    "        print('# users with label 1:', len(y_array[y_array == 1]))\n",
    "\n",
    "    if flag_balance_classes:\n",
    "        ratio = (1.0 * sum(y_array))/(len(y_array) - sum(y_array))\n",
    "        if verbose:\n",
    "            print('1/0 ratio:', ratio)\n",
    "        IDX = []\n",
    "        for i in range(len(y_array)):\n",
    "            if y_array[i] == 1:\n",
    "                IDX.append(i)\n",
    "            else:\n",
    "                if random.random() < ratio:\n",
    "                    IDX.append(i)\n",
    "\n",
    "        IDX = np.array(IDX)\n",
    "        new_x_array = x_array[IDX]\n",
    "        new_y_array = y_array[IDX]\n",
    "\n",
    "        if verbose:\n",
    "            print('After balancing:')\n",
    "            print('# users with label 0 in training set:', len(new_y_array[new_y_array == 0]))\n",
    "            print('# users with label 1 in training set:', len(new_y_array[new_y_array == 1]))\n",
    "        return (new_x_array, new_y_array)\n",
    "    else:\n",
    "        if verbose:\n",
    "            print('classes are not balanced!')\n",
    "        return (x_array, y_array)\n",
    "\n",
    "######################################################################################################\n",
    "def compute_avg_std_of_samples(x_train_array):\n",
    "    avgs = np.mean(x_train_array, axis=0)\n",
    "    stds = np.std(x_train_array, axis=0)\n",
    "    zero_stds = (stds == 0)\n",
    "    stds[zero_stds] = 1.0\n",
    "    return (avgs, stds)\n",
    "\n",
    "def scale_features(x_array, avgs, stds, verbose=False):\n",
    "    new_x_array = (x_array - avgs)/stds\n",
    "    if verbose:\n",
    "        print('... feature scaling: -mean/std')\n",
    "    return new_x_array\n",
    "\n",
    "def standardize_features(x_array, flag_scale_values, avgs, stds, verbose=False):\n",
    "    if flag_scale_values:\n",
    "        assert((avgs.all() != None) and (stds.all() != None))\n",
    "        \n",
    "    new_x_array = None\n",
    "    if flag_scale_values:\n",
    "        new_x_array = scale_features(x_array, avgs, stds, verbose)\n",
    "    else:\n",
    "        if verbose:\n",
    "            print('... feature values are not re-scaled!')\n",
    "    return new_x_array"
   ]
  },
  {
   "cell_type": "markdown",
   "metadata": {},
   "source": [
    "## Prepare training & validation data"
   ]
  },
  {
   "cell_type": "code",
   "execution_count": 64,
   "metadata": {},
   "outputs": [
    {
     "name": "stdout",
     "output_type": "stream",
     "text": [
      "# samples in train.csv: 595212\n",
      "X.shape, Y.shape: (595212, 57) (595212,)\n",
      "[  2.           2.           5.           1.           0.           0.           1.\n",
      "   0.           0.           0.           0.           0.           0.           0.\n",
      "  11.           0.           1.           0.           0.7          0.2\n",
      "   0.71807033  10.           1.          -1.           0.           1.           4.\n",
      "   1.           0.           0.           1.          12.           2.\n",
      "   0.4          0.88367892   0.37080992   3.60555128   0.6          0.5\n",
      "   0.2          3.           1.          10.           1.          10.           1.\n",
      "   5.           9.           1.           5.           8.           0.           1.\n",
      "   1.           0.           0.           1.        ]\n",
      "[0 0 0 0 0 0 0 0 0 1]\n"
     ]
    }
   ],
   "source": [
    "df_train = pd.read_csv('../data/train.csv')\n",
    "print('# samples in train.csv:', len(df_train))\n",
    "\n",
    "X = np.array(df_train.drop(['target', 'id'], axis=1))\n",
    "Y = np.array(df_train['target'])\n",
    "print('X.shape, Y.shape:', X.shape, Y.shape)\n",
    "\n",
    "# print a sample\n",
    "print(X[0])\n",
    "print(Y[0:10])"
   ]
  },
  {
   "cell_type": "code",
   "execution_count": 65,
   "metadata": {},
   "outputs": [
    {
     "name": "stdout",
     "output_type": "stream",
     "text": [
      "balance the numbers of samples in classes for training data:\n",
      "\n",
      "original:\n",
      " x_train.shape: (476169, 57)\n",
      " y_train.shape: (476169,)\n",
      " x_val.shape: (119043, 57)\n",
      " y_val.shape: (119043,)\n",
      "\n",
      "after balancing classes:\n",
      " x_train.shape: (34892, 57)\n",
      " y_train.shape: (34892,)\n",
      " x_val.shape: (119043, 57)\n",
      " y_val.shape: (119043,)\n",
      "\n",
      "scale feature values (e.g., to have standard normal distribution):\n",
      "... feature scaling: -mean/std\n",
      "... feature scaling: -mean/std\n"
     ]
    }
   ],
   "source": [
    "x_train, x_val, y_train, y_val = train_test_split(X, Y, test_size=0.2, random_state=42)\n",
    "\n",
    "print('balance the numbers of samples in classes for training data:\\n')\n",
    "print('original:\\n x_train.shape: {}\\n y_train.shape: {}\\n x_val.shape: {}\\n y_val.shape: {}\\n'\n",
    "      .format(x_train.shape, y_train.shape, x_val.shape, y_val.shape))\n",
    "\n",
    "balanced_x_train, balanced_y_train = balance_num_samples_in_classes(x_train, y_train, True, seed=10)\n",
    "\n",
    "print('after balancing classes:\\n x_train.shape: {}\\n y_train.shape: {}\\n x_val.shape: {}\\n y_val.shape: {}\\n'\n",
    "      .format(balanced_x_train.shape, balanced_y_train.shape, x_val.shape, y_val.shape))\n",
    "\n",
    "print('scale feature values (e.g., to have standard normal distribution):')\n",
    "avg_sample, std_sample = compute_avg_std_of_samples(balanced_x_train)\n",
    "scaled_balanced_x_train = standardize_features(balanced_x_train, True, avg_sample, std_sample, True)\n",
    "scaled_x_val = standardize_features(x_val, True, avg_sample, std_sample, True)"
   ]
  },
  {
   "cell_type": "markdown",
   "metadata": {},
   "source": [
    "## Fit and tune model"
   ]
  },
  {
   "cell_type": "code",
   "execution_count": 67,
   "metadata": {},
   "outputs": [
    {
     "name": "stdout",
     "output_type": "stream",
     "text": [
      "20171102 17:08\n",
      "\n",
      "Model type: <class 'xgboost.sklearn.XGBClassifier'>\n",
      "\n",
      "train auc: 0.656\n",
      "confusion matrix on train:\n",
      "{}\n",
      "[[11412  6171]\n",
      " [ 7356  9953]]\n",
      "val auc: 0.636\n",
      "confusion matrix on val:\n",
      "{}\n",
      "[[72681 41977]\n",
      " [ 1919  2466]]\n",
      "normalized gini: 0.272\n",
      "\n",
      "Best model: <class 'xgboost.sklearn.XGBClassifier'>\n",
      "DONE. 7s\n"
     ]
    }
   ],
   "source": [
    "print(datetime.datetime.now().strftime(\"%Y%m%d %H:%M\"))\n",
    "start_time = time.time()\n",
    "\n",
    "MODELS = [xgb.XGBClassifier()]\n",
    "best_model = None\n",
    "best_gini = 0\n",
    "\n",
    "for model in MODELS:\n",
    "    model.fit(scaled_balanced_x_train, balanced_y_train)\n",
    "    \n",
    "    print('\\nModel type: {}\\n'.format(type(model)))\n",
    "    \n",
    "    y_train_pred = model.predict_proba(scaled_balanced_x_train)[:,1]\n",
    "    print('train auc: {:.3f}'.format(roc_auc_score(balanced_y_train, y_train_pred)))\n",
    "    print('confusion matrix on train:\\n{}')\n",
    "    print(confusion_matrix(balanced_y_train, model.predict(scaled_balanced_x_train)))\n",
    "\n",
    "    y_val_pred = model.predict_proba(scaled_x_val)[:,1]\n",
    "    print('val auc: {:.3f}'.format(roc_auc_score(y_val, y_val_pred)))\n",
    "    print('confusion matrix on val:\\n{}')\n",
    "    print(confusion_matrix(y_val, model.predict(scaled_x_val)))\n",
    "    \n",
    "    n_gini = gini_normalized(y_val, y_val_pred)\n",
    "    print('normalized gini: {:.3f}\\n'.format(n_gini))\n",
    "    if n_gini > best_gini:\n",
    "        best_gini = n_gini\n",
    "        best_model = model\n",
    "        \n",
    "print('Best model:', type(best_model))\n",
    "print('DONE. {}s'.format(int(time.time() - start_time)))"
   ]
  },
  {
   "cell_type": "markdown",
   "metadata": {},
   "source": [
    "## Use best model to train again with all possible training data"
   ]
  },
  {
   "cell_type": "code",
   "execution_count": 72,
   "metadata": {},
   "outputs": [
    {
     "name": "stdout",
     "output_type": "stream",
     "text": [
      "20171102 17:18\n",
      "balance the numbers of samples in classes:\n",
      "\n",
      "original:\n",
      " X.shape: (595212, 57)\n",
      " Y.shape: (595212,)\n",
      "\n",
      "after balancing classes:\n",
      " X.shape: (43510, 57)\n",
      " Y.shape: (43510,)\n",
      "\n",
      "scale feature values\n",
      "... feature scaling: -mean/std\n",
      "build model:\n",
      "... quick check on validation data:\n",
      "..... val auc: 0.647\n",
      "..... confusion matrix on val:\n",
      "[[72681 41977]\n",
      " [ 1919  2466]]\n",
      "..... normalized gini: 0.294\n",
      "\n",
      "DONE. 11s\n"
     ]
    }
   ],
   "source": [
    "start_time = time.time()\n",
    "print(datetime.datetime.now().strftime(\"%Y%m%d %H:%M\"))\n",
    "\n",
    "print('balance the numbers of samples in classes:\\n')\n",
    "print('original:\\n X.shape: {}\\n Y.shape: {}\\n'.format(X.shape, Y.shape))\n",
    "balanced_X, balanced_Y = balance_num_samples_in_classes(X, Y, flag_balance_classes=True, seed=10)\n",
    "print('after balancing classes:\\n X.shape: {}\\n Y.shape: {}\\n'.format(balanced_X.shape, balanced_Y.shape))\n",
    "\n",
    "print('scale feature values')\n",
    "scaled_balanced_X = standardize_features(balanced_X, True, avg_sample, std_sample, True)\n",
    "\n",
    "print('build model:')\n",
    "best_model.fit(scaled_balanced_X, balanced_Y)\n",
    "\n",
    "print('... quick check on validation data:')\n",
    "y_val_pred = best_model.predict_proba(scaled_x_val)[:,1]\n",
    "#\n",
    "print('..... val auc: {:.3f}'.format(roc_auc_score(y_val, y_val_pred)))\n",
    "print('..... confusion matrix on val:')\n",
    "print(confusion_matrix(y_val, model.predict(scaled_x_val)))\n",
    "#\n",
    "n_gini = gini_normalized(y_val, y_val_pred)\n",
    "print('..... normalized gini: {:.3f}\\n'.format(n_gini))\n",
    "\n",
    "print('DONE. {}s'.format(int(time.time() - start_time)))"
   ]
  },
  {
   "cell_type": "markdown",
   "metadata": {},
   "source": [
    "## Predict the actual test data"
   ]
  },
  {
   "cell_type": "code",
   "execution_count": 73,
   "metadata": {},
   "outputs": [
    {
     "name": "stdout",
     "output_type": "stream",
     "text": [
      "20171102 17:20\n",
      "# test samples: 892816\n",
      "x_test.shape, y_test.shape: (892816, 57) (892816,)\n",
      "... feature scaling: -mean/std\n",
      "len(submission): 892816\n"
     ]
    },
    {
     "data": {
      "text/html": [
       "<div>\n",
       "<style>\n",
       "    .dataframe thead tr:only-child th {\n",
       "        text-align: right;\n",
       "    }\n",
       "\n",
       "    .dataframe thead th {\n",
       "        text-align: left;\n",
       "    }\n",
       "\n",
       "    .dataframe tbody tr th {\n",
       "        vertical-align: top;\n",
       "    }\n",
       "</style>\n",
       "<table border=\"1\" class=\"dataframe\">\n",
       "  <thead>\n",
       "    <tr style=\"text-align: right;\">\n",
       "      <th></th>\n",
       "      <th>id</th>\n",
       "      <th>target</th>\n",
       "    </tr>\n",
       "  </thead>\n",
       "  <tbody>\n",
       "    <tr>\n",
       "      <th>0</th>\n",
       "      <td>0</td>\n",
       "      <td>0.410187</td>\n",
       "    </tr>\n",
       "    <tr>\n",
       "      <th>1</th>\n",
       "      <td>1</td>\n",
       "      <td>0.457469</td>\n",
       "    </tr>\n",
       "    <tr>\n",
       "      <th>2</th>\n",
       "      <td>2</td>\n",
       "      <td>0.451550</td>\n",
       "    </tr>\n",
       "    <tr>\n",
       "      <th>3</th>\n",
       "      <td>3</td>\n",
       "      <td>0.304179</td>\n",
       "    </tr>\n",
       "    <tr>\n",
       "      <th>4</th>\n",
       "      <td>4</td>\n",
       "      <td>0.517211</td>\n",
       "    </tr>\n",
       "  </tbody>\n",
       "</table>\n",
       "</div>"
      ],
      "text/plain": [
       "   id    target\n",
       "0   0  0.410187\n",
       "1   1  0.457469\n",
       "2   2  0.451550\n",
       "3   3  0.304179\n",
       "4   4  0.517211"
      ]
     },
     "execution_count": 73,
     "metadata": {},
     "output_type": "execute_result"
    }
   ],
   "source": [
    "print(datetime.datetime.now().strftime(\"%Y%m%d %H:%M\"))\n",
    "\n",
    "# load data\n",
    "df_test = pd.read_csv('../data/test.csv')\n",
    "print('# test samples:', len(df_test))\n",
    "\n",
    "x_test = np.array(df_test.drop('id', axis=1))\n",
    "y_test = df_test['id']\n",
    "\n",
    "# transform features in the same way we did for training data\n",
    "print('x_test.shape, y_test.shape:', x_test.shape, y_test.shape)\n",
    "scaled_x_test = standardize_features(x_test, True, avg_sample, std_sample, True)\n",
    "\n",
    "# make & save predictions\n",
    "predictions = best_model.predict_proba(scaled_x_test)[:,1]\n",
    "\n",
    "submission = pd.DataFrame({'id': y_test, 'target': predictions})\n",
    "submission.to_csv('submission.csv', index=False)\n",
    "print('len(submission):', len(submission))\n",
    "submission.head()"
   ]
  },
  {
   "cell_type": "code",
   "execution_count": 74,
   "metadata": {
    "scrolled": true
   },
   "outputs": [
    {
     "data": {
      "text/plain": [
       "Text(0,0.5,'number of insurance policy holder')"
      ]
     },
     "execution_count": 74,
     "metadata": {},
     "output_type": "execute_result"
    },
    {
     "data": {
      "image/png": "[encoded data removed]",
      "text/plain": [
       "<matplotlib.figure.Figure at 0x1a1465f1d0>"
      ]
     },
     "metadata": {},
     "output_type": "display_data"
    }
   ],
   "source": [
    "plt.hist(predictions)\n",
    "plt.xlabel('probability of claim')\n",
    "plt.ylabel('number of insurance policy holder')"
   ]
  },
  {
   "cell_type": "code",
   "execution_count": null,
   "metadata": {
    "collapsed": true
   },
   "outputs": [],
   "source": []
  },
  {
   "cell_type": "code",
   "execution_count": null,
   "metadata": {
    "collapsed": true
   },
   "outputs": [],
   "source": []
  },
  {
   "cell_type": "code",
   "execution_count": null,
   "metadata": {
    "collapsed": true
   },
   "outputs": [],
   "source": []
  },
  {
   "cell_type": "code",
   "execution_count": null,
   "metadata": {
    "collapsed": true
   },
   "outputs": [],
   "source": []
  },
  {
   "cell_type": "code",
   "execution_count": null,
   "metadata": {
    "collapsed": true
   },
   "outputs": [],
   "source": []
  },
  {
   "cell_type": "code",
   "execution_count": null,
   "metadata": {
    "collapsed": true
   },
   "outputs": [],
   "source": []
  },
  {
   "cell_type": "code",
   "execution_count": null,
   "metadata": {
    "collapsed": true
   },
   "outputs": [],
   "source": []
  },
  {
   "cell_type": "code",
   "execution_count": null,
   "metadata": {
    "collapsed": true
   },
   "outputs": [],
   "source": []
  },
  {
   "cell_type": "markdown",
   "metadata": {},
   "source": [
    "## To be deleted"
   ]
  },
  {
   "cell_type": "raw",
   "metadata": {},
   "source": [
    "### Cross validation"
   ]
  },
  {
   "cell_type": "raw",
   "metadata": {},
   "source": [
    "start_time = time.time()\n",
    "#clf = skRandomForestClassifier(n_estimators=200, max_depth=8)\n",
    "m = xgb.XGBClassifier() #n_estimators=200, max_depth=8, nthread=50\n",
    "\n",
    "nfolds = 5\n",
    "print('num folds: {}'.format(nfolds))\n",
    "scores = cross_val_score(m, \n",
    "                         x_train,\n",
    "                         y_train,\n",
    "                         cv=nfolds, scoring='roc_auc')\n",
    "print('scores:', scores)\n",
    "print('mean: {:.3f}, std: {:.3f}\\n'.format(np.mean(scores), np.std(scores)))\n",
    "print('DONE. {}s'.format(int(time.time() - start_time)))"
   ]
  },
  {
   "cell_type": "code",
   "execution_count": null,
   "metadata": {
    "collapsed": true
   },
   "outputs": [],
   "source": []
  }
 ],
 "metadata": {
  "kernelspec": {
   "display_name": "Python 3",
   "language": "python",
   "name": "python3"
  },
  "language_info": {
   "codemirror_mode": {
    "name": "ipython",
    "version": 3
   },
   "file_extension": ".py",
   "mimetype": "text/x-python",
   "name": "python",
   "nbconvert_exporter": "python",
   "pygments_lexer": "ipython3",
   "version": "3.6.3"
  }
 },
 "nbformat": 4,
 "nbformat_minor": 2
}
